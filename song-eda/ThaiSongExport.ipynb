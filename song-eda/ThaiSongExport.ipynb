{
 "cells": [
  {
   "cell_type": "code",
   "execution_count": 15,
   "id": "07bb637a",
   "metadata": {},
   "outputs": [],
   "source": [
    "%%capture\n",
    "\n",
    "%run DBConnector.ipynb"
   ]
  },
  {
   "cell_type": "code",
   "execution_count": 19,
   "id": "0c01d4c2",
   "metadata": {},
   "outputs": [],
   "source": [
    "from sqlalchemy import select\n",
    "\n",
    "songs = []\n",
    "\n",
    "with engine.connect() as conn:\n",
    "    rs = conn.execute(\n",
    "        select(song_table).\\\n",
    "        where(song_table.c.lyrics != None).\\\n",
    "        where(song_table.c.language == 'TH')\n",
    "    )\n",
    "    \n",
    "    for row in rs.fetchall():\n",
    "        song_id, track_id, artist, song_title, cover, streaming_url, lyric, lang = row\n",
    "        lyric = \"|\".join([s.strip() for s in lyric.split(\"\\n\") if len(s.strip()) > 0])\n",
    "        \n",
    "        songs.append({\n",
    "            'song_id': song_id,\n",
    "            'track_id': track_id,\n",
    "            'artist': artist,\n",
    "            'song_title': song_title,\n",
    "            'cover_image': cover,\n",
    "            'streaming_url': streaming_url,\n",
    "            'lyric': lyric\n",
    "        })"
   ]
  },
  {
   "cell_type": "code",
   "execution_count": 20,
   "id": "6c282f2e",
   "metadata": {},
   "outputs": [],
   "source": [
    "import csv\n",
    "\n",
    "with open('export/thai-song-with-lyric.csv', 'w') as f:\n",
    "    cwriter = csv.DictWriter(\n",
    "        f, \n",
    "        fieldnames=['song_id', 'track_id', 'artist', 'song_title', 'cover_image', 'streaming_url', 'lyric'],\n",
    "        dialect='excel'\n",
    "    )\n",
    "    cwriter.writeheader()\n",
    "    cwriter.writerows(songs)"
   ]
  },
  {
   "cell_type": "code",
   "execution_count": 16,
   "id": "2a4e6810",
   "metadata": {},
   "outputs": [],
   "source": [
    "weekly_stats = []\n",
    "\n",
    "with engine.connect() as conn:\n",
    "    rs = conn.execute(\n",
    "        select(weekly_stats_table)\n",
    "    )\n",
    "    \n",
    "    for row in rs.fetchall():\n",
    "        _, week_id, _, position, _, name, artist, streaming_count = row\n",
    "        weekly_stats.append({\n",
    "            'week_id': week_id,\n",
    "            'position': position,\n",
    "            'song_title': name,\n",
    "            'artist': artist,\n",
    "            'streaming_count': streaming_count\n",
    "        })"
   ]
  },
  {
   "cell_type": "code",
   "execution_count": 18,
   "id": "735afe92",
   "metadata": {},
   "outputs": [],
   "source": [
    "import csv\n",
    "\n",
    "with open('export/thai-song-with-weekly-stats.csv', 'w') as f:\n",
    "    cwriter = csv.DictWriter(\n",
    "        f, \n",
    "        fieldnames=['week_id', 'position', 'song_title', 'artist', 'streaming_count'],\n",
    "        dialect='excel'\n",
    "    )\n",
    "    \n",
    "    cwriter.writeheader()\n",
    "    cwriter.writerows(weekly_stats)"
   ]
  },
  {
   "cell_type": "code",
   "execution_count": null,
   "id": "623d0b92",
   "metadata": {},
   "outputs": [],
   "source": []
  }
 ],
 "metadata": {
  "kernelspec": {
   "display_name": "Python 3 (ipykernel)",
   "language": "python",
   "name": "python3"
  },
  "language_info": {
   "codemirror_mode": {
    "name": "ipython",
    "version": 3
   },
   "file_extension": ".py",
   "mimetype": "text/x-python",
   "name": "python",
   "nbconvert_exporter": "python",
   "pygments_lexer": "ipython3",
   "version": "3.7.4"
  }
 },
 "nbformat": 4,
 "nbformat_minor": 5
}
